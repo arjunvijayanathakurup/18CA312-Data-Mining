{
 "cells": [
  {
   "cell_type": "code",
   "execution_count": 11,
   "metadata": {},
   "outputs": [],
   "source": [
    "import pandas as pd\n",
    "X = pd.read_csv(\"D:\\Data Mining\\Lab\\Lab1\\lab1\\Salaries.csv\")"
   ]
  },
  {
   "cell_type": "code",
   "execution_count": 12,
   "metadata": {},
   "outputs": [
    {
     "data": {
      "text/plain": [
       "array([[<matplotlib.axes._subplots.AxesSubplot object at 0x000000000D3924A8>,\n",
       "        <matplotlib.axes._subplots.AxesSubplot object at 0x000000000D5FD7F0>],\n",
       "       [<matplotlib.axes._subplots.AxesSubplot object at 0x000000000D70EF60>,\n",
       "        <matplotlib.axes._subplots.AxesSubplot object at 0x000000000E21F710>]], dtype=object)"
      ]
     },
     "execution_count": 12,
     "metadata": {},
     "output_type": "execute_result"
    },
    {
     "data": {
      "image/png": "[encoded data removed]",
      "text/plain": [
       "<Figure size 792x792 with 4 Axes>"
      ]
     },
     "metadata": {},
     "output_type": "display_data"
    }
   ],
   "source": [
    "%matplotlib inline\n",
    "import matplotlib.pyplot as plt\n",
    "X[X.dtypes[(X.dtypes==\"float64\")|(X.dtypes==\"int64\")].index.values].hist(figsize=[11,11])"
   ]
  },
  {
   "cell_type": "code",
   "execution_count": 17,
   "metadata": {},
   "outputs": [
    {
     "name": "stdout",
     "output_type": "stream",
     "text": [
      "[[ 1.          0.96078431  1.        ]\n",
      " [ 0.2         0.11764706  0.2725302 ]\n",
      " [ 0.4         0.39215686  0.40813719]\n",
      " [ 0.70909091  0.60784314  0.56832611]\n",
      " [ 0.34545455  0.35294118  0.36388975]\n",
      " [ 0.34545455  0.39215686  0.50015485]\n",
      " [ 0.34545455  0.33333333  0.18182874]\n",
      " [ 0.30909091  0.35294118  0.53034995]\n",
      " [ 0.50909091  0.37254902  0.28298235]\n",
      " [ 0.90909091  1.          0.        ]\n",
      " [ 0.69090909  0.64705882  0.54544751]\n",
      " [ 0.4         0.45098039  0.59598947]\n",
      " [ 0.          0.          0.23381852]\n",
      " [ 0.61818182  0.64705882  0.80829978]\n",
      " [ 0.43636364  0.37254902  0.74287705]\n",
      " [ 0.29090909  0.05882353  0.71755962]\n",
      " [ 0.12727273  0.05882353  0.13350883]\n",
      " [ 0.05454545  0.          0.26478786]\n",
      " [ 0.32727273  0.1372549   0.38324559]\n",
      " [ 0.50909091  0.52941176  0.71771446]\n",
      " [ 0.05454545  0.07843137  0.26478786]\n",
      " [ 0.58181818  0.58823529  0.35077423]\n",
      " [ 0.05454545  0.03921569  0.11768349]\n",
      " [ 0.01818182  0.          0.21059151]\n",
      " [ 0.52727273  0.45098039  0.25781976]\n",
      " [ 0.61818182  0.60784314  0.3222205 ]\n",
      " [ 0.67272727  0.37254902  0.70416538]\n",
      " [ 0.8         0.84313725  0.75925209]\n",
      " [ 0.10909091  0.03921569  0.25936823]\n",
      " [ 0.36363636  0.39215686  0.51008826]\n",
      " [ 0.14545455  0.1372549   0.38098483]\n",
      " [ 0.38181818  0.41176471  0.75836172]\n",
      " [ 0.47272727  0.37254902  0.35208269]\n",
      " [ 0.30909091  0.35294118  0.48157324]\n",
      " [ 0.2         0.15686275  0.48002478]\n",
      " [ 0.49090909  0.45098039  0.53525085]\n",
      " [ 0.8         0.88235294  0.68950139]\n",
      " [ 0.34545455  0.15686275  0.34221121]\n",
      " [ 0.05454545  0.05882353  0.25704552]\n",
      " [ 0.30909091  0.35294118  0.55125426]\n",
      " [ 0.69090909  0.70588235  0.61319294]\n",
      " [ 0.21818182  0.15686275  0.13185197]\n",
      " [ 0.05454545  0.03921569  0.17362186]\n",
      " [ 0.07272727  0.          0.14865283]\n",
      " [ 0.4         0.37254902  0.72753174]\n",
      " [ 0.43636364  0.49019608  0.63716321]\n",
      " [ 0.18181818  0.05882353  0.13078352]\n",
      " [ 0.18181818  0.21568627  0.3546996 ]\n",
      " [ 0.29090909  0.33333333  0.4158563 ]\n",
      " [ 0.29090909  0.35294118  0.50449055]\n",
      " [ 0.16363636  0.09803922  0.30374729]\n",
      " [ 0.34545455  0.2745098   0.53973366]\n",
      " [ 0.2         0.          0.36543822]\n",
      " [ 0.07272727  0.05882353  0.12155466]\n",
      " [ 0.43636364  0.43137255  0.03936203]\n",
      " [ 0.01818182  0.          0.11381233]\n",
      " [ 0.16363636  0.15686275  0.152524  ]\n",
      " [ 0.03636364  0.01960784  0.11381233]\n",
      " [ 0.63636364  0.50980392  0.67242954]\n",
      " [ 0.2         0.19607843  0.35764943]\n",
      " [ 0.03636364  0.05882353  0.26478786]\n",
      " [ 0.21818182  0.19607843  0.3557603 ]\n",
      " [ 0.23636364  0.1372549   0.40144007]\n",
      " [ 0.50909091  0.52941176  0.25704552]\n",
      " [ 0.45454545  0.47058824  0.12000619]\n",
      " [ 0.63636364  0.37254902  0.46264323]\n",
      " [ 0.10909091  0.11764706  0.04103438]\n",
      " [ 0.29090909  0.21568627  0.25278724]\n",
      " [ 0.05454545  0.03921569  0.152524  ]\n",
      " [ 0.49090909  0.1372549   0.45408795]\n",
      " [ 0.12727273  0.05882353  0.16026634]\n",
      " [ 0.2         0.17647059  0.10270207]\n",
      " [ 0.41818182  0.29411765  0.79979096]\n",
      " [ 0.30909091  0.19607843  0.36892227]\n",
      " [ 0.32727273  0.11764706  0.36189223]\n",
      " [ 0.29090909  0.33333333  0.51495819]\n",
      " [ 0.49090909  0.2745098   0.40379374]\n",
      " [ 0.4         0.29411765  0.4014091 ]]\n"
     ]
    }
   ],
   "source": [
    "from sklearn.preprocessing import MinMaxScaler\n",
    "#X_MM = (X - Xmin)/Xmax-Xmin)\n",
    "min_max=MinMaxScaler()\n",
    "X_MM=min_max.fit_transform(X[X.dtypes[(X.dtypes==\"float64\")|(X.dtypes==\"int64\")].index.values])\n",
    "print(X_MM)\n"
   ]
  },
  {
   "cell_type": "code",
   "execution_count": 19,
   "metadata": {},
   "outputs": [
    {
     "name": "stdout",
     "output_type": "stream",
     "text": [
      "[[ 2.92275171  2.81458871  2.8079483 ]\n",
      " [-0.6204782  -0.75041527 -0.53443152]\n",
      " [ 0.26532928  0.4102837   0.08861852]\n",
      " [ 1.63430447  1.32226146  0.82461085]\n",
      " [ 0.02374542  0.24446956 -0.11467757]]\n"
     ]
    }
   ],
   "source": [
    "#z=x-mean/stddev\n",
    "from sklearn.preprocessing import StandardScaler\n",
    "X_S = StandardScaler().fit(X[X.dtypes[(X.dtypes==\"float64\")|(X.dtypes==\"int64\")].index.values])\n",
    "New_X=X_S.transform(X[X.dtypes[(X.dtypes==\"float64\")|(X.dtypes==\"int64\")].index.values])\n",
    "print(New_X[0:5,:])"
   ]
  },
  {
   "cell_type": "code",
   "execution_count": 30,
   "metadata": {},
   "outputs": [
    {
     "name": "stdout",
     "output_type": "stream",
     "text": [
      "[1 1 1 1 1 1 1 1 1 1 1 1 1 1 1 1 1 1 1 1 1 1 1 1 1 1 1 1 1 1 1 1 1 1 1 1 1\n",
      " 1 1 0 0 0 0 0 0 0 0 0 0 0 0 0 0 0 0 0 0 0 0 0 0 0 0 0 0 0 0 0 0 0 0 0 0 0\n",
      " 0 0 0 0]\n"
     ]
    },
    {
     "name": "stderr",
     "output_type": "stream",
     "text": [
      "C:\\Users\\icts\\Anaconda2\\lib\\site-packages\\sklearn\\preprocessing\\label.py:128: DataConversionWarning: A column-vector y was passed when a 1d array was expected. Please change the shape of y to (n_samples, ), for example using ravel().\n",
      "  y = column_or_1d(y, warn=True)\n"
     ]
    }
   ],
   "source": [
    "from sklearn.preprocessing import LabelEncoder\n",
    "enc = LabelEncoder()\n",
    "columns =['sex']\n",
    "data = X[X.dtypes[(X.dtypes==\"object\")].index.values]\n",
    "enc.fit(data[columns])\n",
    "temp = enc.transform(data[columns])\n",
    "print(temp)"
   ]
  },
  {
   "cell_type": "code",
   "execution_count": null,
   "metadata": {},
   "outputs": [],
   "source": []
  },
  {
   "cell_type": "code",
   "execution_count": null,
   "metadata": {},
   "outputs": [],
   "source": []
  }
 ],
 "metadata": {
  "kernelspec": {
   "display_name": "Python 3",
   "language": "python",
   "name": "python3"
  },
  "language_info": {
   "codemirror_mode": {
    "name": "ipython",
    "version": 3
   },
   "file_extension": ".py",
   "mimetype": "text/x-python",
   "name": "python",
   "nbconvert_exporter": "python",
   "pygments_lexer": "ipython3",
   "version": "3.7.4"
  }
 },
 "nbformat": 4,
 "nbformat_minor": 2
}
