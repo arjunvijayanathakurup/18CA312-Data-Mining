{
 "cells": [
  {
   "cell_type": "code",
   "execution_count": null,
   "metadata": {},
   "outputs": [],
   "source": [
    "# setup the enviroment\n",
    "# !python -m pip install --upgrade pip\n",
    "# !pip install pandas"
   ]
  },
  {
   "cell_type": "code",
   "execution_count": 2,
   "metadata": {},
   "outputs": [],
   "source": [
    "import numpy as np\n",
    "import pandas as pd\n",
    "separatorColumn = 18"
   ]
  },
  {
   "cell_type": "code",
   "execution_count": 3,
   "metadata": {},
   "outputs": [
    {
     "name": "stdout",
     "output_type": "stream",
     "text": [
      "50901 rows loaded.\n"
     ]
    }
   ],
   "source": [
    "df = pd.read_csv('MapData-Evans-GP.csv', skipinitialspace=True)\n",
    "totalRows = len(df)\n",
    "print(str(totalRows) + \" rows loaded.\")"
   ]
  },
  {
   "cell_type": "code",
   "execution_count": 4,
   "metadata": {},
   "outputs": [
    {
     "name": "stdout",
     "output_type": "stream",
     "text": [
      "61 breakthroughs found\n"
     ]
    }
   ],
   "source": [
    "columns = df.columns[:separatorColumn+1].tolist()\n",
    "breakthroughNames = np.sort(np.unique(df.iloc[:,separatorColumn+1:].values)).tolist()\n",
    "outColumns = columns + breakthroughNames\n",
    "print(str(len(breakthroughNames)) + \" breakthroughs found\")"
   ]
  },
  {
   "cell_type": "code",
   "execution_count": 5,
   "metadata": {},
   "outputs": [
    {
     "name": "stdout",
     "output_type": "stream",
     "text": [
      "processing breakthrough: Advanced Drone Drive\n",
      "processing breakthrough: Alien Imprints\n",
      "processing breakthrough: Ancient Terraforming Device\n",
      "processing breakthrough: Artificial Muscles\n",
      "processing breakthrough: Autonomous Hubs\n",
      "processing breakthrough: Cloning\n",
      "processing breakthrough: Construction Nanites \n",
      "processing breakthrough: Core Metals\n",
      "processing breakthrough: Core Rare Metals\n",
      "processing breakthrough: Core Water\n",
      "processing breakthrough: Cryo-sleep\n",
      "processing breakthrough: Designed Forestation\n",
      "processing breakthrough: Dome Streamlining\n",
      "processing breakthrough: Dry Farming\n",
      "processing breakthrough: Eternal Fusion\n",
      "processing breakthrough: Extractor AI\n",
      "processing breakthrough: Factory Automation\n",
      "processing breakthrough: Forever Young\n",
      "processing breakthrough: Frictionless Composites\n",
      "processing breakthrough: Gem Architecture\n",
      "processing breakthrough: Gene Selection\n",
      "processing breakthrough: Giant Crops\n",
      "processing breakthrough: Good Vibrations\n",
      "processing breakthrough: Hive Mind \n",
      "processing breakthrough: Hull Polarization\n",
      "processing breakthrough: Hypersensitive Photovoltaics\n",
      "processing breakthrough: Inspiring Architecture\n",
      "processing breakthrough: Interplanetary Learning\n",
      "processing breakthrough: Lake Vaporators\n",
      "processing breakthrough: Landscaping Nanites\n",
      "processing breakthrough: Magnetic Extraction\n",
      "processing breakthrough: Martian Diet\n",
      "processing breakthrough: Martian Steel\n",
      "processing breakthrough: Martianborn Ingenuity\n",
      "processing breakthrough: Multispiral Architecture\n",
      "processing breakthrough: Nano Refinement\n",
      "processing breakthrough: Neo-Concrete\n",
      "processing breakthrough: Neural Empathy\n",
      "processing breakthrough: Nocturnal Adaptation\n",
      "processing breakthrough: Overcharge Amplifications\n",
      "processing breakthrough: Plasma Rocket\n",
      "processing breakthrough: Plutonium Synthesis\n",
      "processing breakthrough: Prefab Compression\n",
      "processing breakthrough: Printed Electronics\n",
      "processing breakthrough: Project Phoenix\n",
      "processing breakthrough: Rapid Sleep\n",
      "processing breakthrough: Resilient Vegetation\n",
      "processing breakthrough: Safe Mode\n",
      "processing breakthrough: Service Bots\n",
      "processing breakthrough: Soylent Green\n",
      "processing breakthrough: Space Rehabilitation\n",
      "processing breakthrough: Superconducting Computing\n",
      "processing breakthrough: Superfungus\n",
      "processing breakthrough: Superior Cables\n",
      "processing breakthrough: Superior Pipes\n",
      "processing breakthrough: Sustained Workload\n",
      "processing breakthrough: The Positronic Brain\n",
      "processing breakthrough: Vector Pump\n",
      "processing breakthrough: Vocation-Oriented Society\n",
      "processing breakthrough: Wireless Power\n",
      "processing breakthrough: Zero-Space Computing\n",
      "flattened breakthorughs\n"
     ]
    }
   ],
   "source": [
    "btDict = {}\n",
    "df2 = df.iloc[:, separatorColumn:]\n",
    "for breakthrough in breakthroughNames:\n",
    "    print(\"processing breakthrough: \" + breakthrough)\n",
    "    btDict[breakthrough] = np.isin(df2, breakthrough).any(1)\n",
    "\n",
    "print(\"flattened breakthorughs\")"
   ]
  },
  {
   "cell_type": "code",
   "execution_count": 6,
   "metadata": {},
   "outputs": [
    {
     "name": "stdout",
     "output_type": "stream",
     "text": [
      "csv file created\n"
     ]
    }
   ],
   "source": [
    "df4 = pd.concat([df.iloc[:,:separatorColumn], pd.DataFrame(btDict)], sort=False, axis=1)\n",
    "df4.to_csv('MapData-Evans-GP-Flatten.csv', index=False)\n",
    "print(\"csv file created\")"
   ]
  }
 ],
 "metadata": {
  "kernelspec": {
   "display_name": "Python 3",
   "language": "python",
   "name": "python3"
  },
  "language_info": {
   "codemirror_mode": {
    "name": "ipython",
    "version": 3
   },
   "file_extension": ".py",
   "mimetype": "text/x-python",
   "name": "python",
   "nbconvert_exporter": "python",
   "pygments_lexer": "ipython3",
   "version": "3.6.3"
  }
 },
 "nbformat": 4,
 "nbformat_minor": 4
}
